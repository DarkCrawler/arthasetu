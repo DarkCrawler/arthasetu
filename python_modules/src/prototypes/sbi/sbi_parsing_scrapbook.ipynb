{
 "cells": [
  {
   "cell_type": "code",
   "execution_count": null,
   "id": "56470824-be32-46f3-8378-b7c0e4ab670d",
   "metadata": {},
   "outputs": [],
   "source": [
    "!curl -O https://www.sbimf.com/docs/default-source/scheme-portfolios/all-schemes-monthly-portfolio---as-on-28th-february-2023.xlsx"
   ]
  },
  {
   "cell_type": "code",
   "execution_count": null,
   "id": "f3704bd2-2e2b-48a1-ba28-c362e8795ccf",
   "metadata": {},
   "outputs": [],
   "source": [
    "!pip install pandas"
   ]
  },
  {
   "cell_type": "code",
   "execution_count": null,
   "id": "2e75f603-5f5c-450e-89cd-8db341b3e0f5",
   "metadata": {},
   "outputs": [],
   "source": [
    "!pip install openpyxl"
   ]
  },
  {
   "cell_type": "code",
   "execution_count": null,
   "id": "95b8e0d4-5b42-4033-9188-6fe4b78e6d90",
   "metadata": {},
   "outputs": [],
   "source": [
    "import pandas as pd\n",
    "\n",
    "# Path to your Excel file\n",
    "file_path = \"all-schemes-monthly-portfolio---as-on-28th-february-2023.xlsx\"\n",
    "\n",
    "# Load the workbook\n",
    "xls = pd.ExcelFile(file_path)\n",
    "\n",
    "# Dictionary to store DataFrames per sheet\n",
    "portfolio_dataframes = {}\n"
   ]
  },
  {
   "cell_type": "code",
   "execution_count": null,
   "id": "ece91495-724f-412c-b087-e0f1c7bba0b0",
   "metadata": {},
   "outputs": [],
   "source": [
    "df = xls.parse('SMEEF', header=4)"
   ]
  },
  {
   "cell_type": "code",
   "execution_count": null,
   "id": "c8f66499-363c-4cfb-a500-1a0e96d0e7ca",
   "metadata": {},
   "outputs": [],
   "source": [
    "# Drop fully empty rows\n",
    "df.dropna(how='all', inplace=True)"
   ]
  },
  {
   "cell_type": "code",
   "execution_count": null,
   "id": "f11efb71-262b-45f8-b06b-b5a04115471e",
   "metadata": {},
   "outputs": [],
   "source": [
    "selected_df = df.iloc[:, [2, 3, 4, 5, 6, 7, 10, 11]]"
   ]
  },
  {
   "cell_type": "code",
   "execution_count": null,
   "id": "f122b0e5-343d-4fb6-8672-d971eabb45b6",
   "metadata": {},
   "outputs": [],
   "source": []
  },
  {
   "cell_type": "code",
   "execution_count": null,
   "id": "1e6910bd-a0ca-408f-904a-cd73fb9b3c49",
   "metadata": {},
   "outputs": [],
   "source": []
  },
  {
   "cell_type": "code",
   "execution_count": null,
   "id": "dc6fe638-d422-4cad-aeac-babd4818dce9",
   "metadata": {},
   "outputs": [],
   "source": [
    "!pip install tabulate"
   ]
  },
  {
   "cell_type": "code",
   "execution_count": null,
   "id": "54d8e6b0-7fb0-4a84-a27b-4586f2924ed3",
   "metadata": {},
   "outputs": [],
   "source": [
    "from tabulate import tabulate"
   ]
  },
  {
   "cell_type": "code",
   "execution_count": null,
   "id": "81b7fd51-9667-4317-bb18-4b31cf49c369",
   "metadata": {},
   "outputs": [],
   "source": [
    "print(tabulate(temp, headers='keys', tablefmt='psql'))  "
   ]
  },
  {
   "cell_type": "code",
   "execution_count": null,
   "id": "f035402c-649b-45b4-be32-38207bfa79c2",
   "metadata": {},
   "outputs": [],
   "source": [
    "temp.info()"
   ]
  },
  {
   "cell_type": "code",
   "execution_count": null,
   "id": "dfd3bc4e-939b-46d5-92bb-c81426bf2e84",
   "metadata": {},
   "outputs": [],
   "source": [
    "\n",
    "# Iterate through all sheets starting from the second\n",
    "for sheet_name in xls.sheet_names[1:]:\n",
    "    try:\n",
    "        # Read with header at row 5 (0-indexed row 4)\n",
    "        df = xls.parse(sheet_name, header=4)\n",
    "        \n",
    "        # Drop fully empty rows\n",
    "        df.dropna(how='all', inplace=True)\n",
    "        \n",
    "        # Select columns by position (adjust based on actual layout)\n",
    "        # Typically: 2 - Name, 3 - ISIN, ... 11 - Notes/Symbols\n",
    "        selected_df = df.iloc[:, [2, 3, 4, 5, 6, 7, 10, 11]]\n",
    "        \n",
    "        # Rename columns for consistency\n",
    "        selected_df.columns = [\n",
    "            \"Instrument Name\", \"ISIN\", \"Rating/Industry\",\n",
    "            \"Quantity\", \"Market Value\", \"% to AUM\",\n",
    "            \"ESG Score\", \"Notes/Symbols\"\n",
    "        ]\n",
    "        \n",
    "        # Store the cleaned DataFrame\n",
    "        portfolio_dataframes[sheet_name] = selected_df\n",
    "\n",
    "    except Exception as e:\n",
    "        print(f\"Error processing {sheet_name}: {e}\")\n",
    "\n",
    "# Example: Access a specific fund's portfolio\n",
    "# print(portfolio_dataframes['SMEEF'].head())\n",
    "\n",
    "# Or print all keys\n",
    "print(\"Parsed Sheets:\", list(portfolio_dataframes.keys()))"
   ]
  },
  {
   "cell_type": "code",
   "execution_count": null,
   "id": "12163613-d2d9-4cb8-9555-1101ca9a776b",
   "metadata": {},
   "outputs": [],
   "source": []
  },
  {
   "cell_type": "code",
   "execution_count": null,
   "id": "61545152-be2a-48c8-b470-542f8b4a0b05",
   "metadata": {},
   "outputs": [],
   "source": []
  },
  {
   "cell_type": "code",
   "execution_count": null,
   "id": "312af66d-d4d6-4e8e-8e49-78a8860ccb10",
   "metadata": {},
   "outputs": [],
   "source": []
  },
  {
   "cell_type": "code",
   "execution_count": null,
   "id": "10fe0d92-ef3a-4284-848c-9a7edb75519f",
   "metadata": {},
   "outputs": [],
   "source": []
  },
  {
   "cell_type": "code",
   "execution_count": null,
   "id": "2d1460a6-b62f-43b8-9d6b-f7ae7167ec71",
   "metadata": {},
   "outputs": [],
   "source": []
  },
  {
   "cell_type": "code",
   "execution_count": null,
   "id": "3556a7fb-f3fe-4359-b9d8-05dad32485a2",
   "metadata": {},
   "outputs": [],
   "source": [
    "section_indices.__len__()\n"
   ]
  },
  {
   "cell_type": "code",
   "execution_count": null,
   "id": "b41137db-e49a-4ee8-a445-70396b33fa82",
   "metadata": {},
   "outputs": [],
   "source": []
  },
  {
   "cell_type": "code",
   "execution_count": null,
   "id": "84530513-607f-4200-9696-23afba8f7cfe",
   "metadata": {},
   "outputs": [],
   "source": [
    "temp.info()"
   ]
  },
  {
   "cell_type": "code",
   "execution_count": null,
   "id": "63d256af-1f9c-4b78-9d19-5b3842653a1a",
   "metadata": {},
   "outputs": [],
   "source": []
  },
  {
   "cell_type": "code",
   "execution_count": null,
   "id": "699bdea5-cd04-4dc5-aa89-a8f7fc136713",
   "metadata": {},
   "outputs": [],
   "source": [
    "temp.info()"
   ]
  },
  {
   "cell_type": "code",
   "execution_count": null,
   "id": "8b5dab2b-6152-4d9a-8d31-f9243ebb9fe9",
   "metadata": {},
   "outputs": [],
   "source": [
    "temp.iloc[0]"
   ]
  },
  {
   "cell_type": "code",
   "execution_count": null,
   "id": "a2447c0a-30c0-4b3e-8f50-de6b34917beb",
   "metadata": {},
   "outputs": [],
   "source": [
    "#dropping the row \n",
    "temp = temp.iloc[1:].reset_index(drop=True)\n"
   ]
  },
  {
   "cell_type": "code",
   "execution_count": null,
   "id": "8eccffc1-706f-4ad9-9570-bd51b966ed28",
   "metadata": {},
   "outputs": [],
   "source": [
    "# for row in temp.itertuples(index=False):\n",
    "    #print(f\"{row.inst_name} ({row.isin}) - ₹{row.sector}\")\n",
    "    \n",
    "    # if row.inst_name in sections:\n",
    "    #     title_string = row.inst_name\n",
    "\n",
    "\n",
    "        \n",
    "        \n",
    "    \n",
    "        \n",
    "        "
   ]
  },
  {
   "cell_type": "code",
   "execution_count": null,
   "id": "6ddb8910-7bed-4e18-aa5b-782e0c6246cf",
   "metadata": {},
   "outputs": [],
   "source": [
    "section_dataframes"
   ]
  },
  {
   "cell_type": "code",
   "execution_count": null,
   "id": "1ecfb07b-8843-4a43-b503-571ad6082aad",
   "metadata": {},
   "outputs": [],
   "source": [
    "section_dataframes['EQUITY & EQUITY RELATED']['b) Unlisted']"
   ]
  },
  {
   "cell_type": "code",
   "execution_count": null,
   "id": "6a689d7c-6776-4745-b36a-751905d938a1",
   "metadata": {},
   "outputs": [],
   "source": []
  },
  {
   "cell_type": "code",
   "execution_count": null,
   "id": "af7d7ece-d4bf-448a-8e3f-ca0b2e3b1287",
   "metadata": {},
   "outputs": [],
   "source": []
  },
  {
   "cell_type": "code",
   "execution_count": null,
   "id": "2466dd16-d509-4426-9816-f88dfd4cd4eb",
   "metadata": {},
   "outputs": [],
   "source": [
    "sections['EQUITY & EQUITY RELATED']['sublist']"
   ]
  },
  {
   "cell_type": "code",
   "execution_count": null,
   "id": "785daed8-cfc7-4835-8b24-ca68b1708e71",
   "metadata": {},
   "outputs": [],
   "source": [
    "import pandas as pd\n",
    "\n",
    "# Assume df is your full raw dataframe\n",
    "df = pd.read_excel(\"file.xlsx\", sheet_name=\"SMEEF\", header=None)\n",
    "\n",
    "sections = {\n",
    "    \"EQUITY & RELATED\": \"equity_df\",\n",
    "    \"DEBT INSTRUMENTS\": \"debt_df\"\n",
    "}\n",
    "\n",
    "section_dataframes = {}  # final df of df \n",
    "current_section = None # the current section\n",
    "section_start = None # current section start \n",
    "\n",
    "for idx, row in df.iterrows(): # loop each row \n",
    "    cell_value = str(row[0]).strip().upper() \n",
    "    \n",
    "    if cell_value in sections:\n",
    "        # Save previous section if it was active\n",
    "        if current_section is not None and section_start is not None:\n",
    "            section_df = df.iloc[section_start:idx].reset_index(drop=True)\n",
    "            section_dataframes[current_section] = section_df\n",
    "        \n",
    "        # Start a new section\n",
    "        current_section = sections[cell_value]\n",
    "        section_start = idx + 1  # Start after title row\n",
    "\n",
    "# Capture last section (if any)\n",
    "if current_section and section_start < len(df):\n",
    "    section_df = df.iloc[section_start:].reset_index(drop=True)\n",
    "    section_dataframes[current_section] = section_df\n",
    "\n",
    "# ✅ Result: section_dataframes[\"equity_df\"], section_dataframes[\"debt_df\"]\n",
    "for name, sdf in section_dataframes.items():\n",
    "    print(f\"\\n--- {name.upper()} ---\")\n",
    "    print(sdf.head())\n"
   ]
  },
  {
   "cell_type": "code",
   "execution_count": 72,
   "id": "9d3537b5-83bd-441c-957f-bd0c29a52783",
   "metadata": {},
   "outputs": [
    {
     "name": "stdout",
     "output_type": "stream",
     "text": [
      "  % Total    % Received % Xferd  Average Speed   Time    Time     Time  Current\n",
      "                                 Dload  Upload   Total   Spent    Left  Speed\n",
      "100  845k  100  845k    0     0   259k      0  0:00:03  0:00:03 --:--:--  259k\n"
     ]
    }
   ],
   "source": [
    "!curl -O https://www.dspim.com/media/pages/mandatory-disclosures/portfolio-disclosures/79859b96a0-1749486449/monthend-portfolio-may-2025.zip"
   ]
  }
 ],
 "metadata": {
  "kernelspec": {
   "display_name": "Python 3 (ipykernel)",
   "language": "python",
   "name": "python3"
  },
  "language_info": {
   "codemirror_mode": {
    "name": "ipython",
    "version": 3
   },
   "file_extension": ".py",
   "mimetype": "text/x-python",
   "name": "python",
   "nbconvert_exporter": "python",
   "pygments_lexer": "ipython3",
   "version": "3.10.14"
  }
 },
 "nbformat": 4,
 "nbformat_minor": 5
}
