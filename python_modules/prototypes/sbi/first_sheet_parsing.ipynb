{
 "cells": [
  {
   "cell_type": "code",
   "execution_count": 1,
   "id": "21584bf7-a09f-439e-a55d-272a590f6523",
   "metadata": {},
   "outputs": [],
   "source": [
    "import pandas as pd\n",
    "\n",
    "# Path to your Excel file\n",
    "file_path = \"all-schemes-monthly-portfolio---as-on-28th-february-2025.xlsx\"\n",
    "\n",
    "#file_path_2 = \"all-schemes-monthly-portfolio---as-on-28th-february-2023.xlsx\"\n",
    "\n",
    "\n",
    "#file_path_x = \"all-schemes-monthly-portfolio---as-on-31st-march-2025.xlsx\"\n",
    "\n",
    "# Load the workbook\n",
    "xls = pd.ExcelFile(file_path)\n",
    "#xls2 = pd.ExcelFile(file_path_2)\n",
    "#xls3 = pd.ExcelFile(file_path_x)\n",
    "\n",
    "#temp = xls2.parse('Index', header=2)\n",
    "temp = xls.parse('Index', header=2)\n",
    "#temp3 = xls3.parse(sheet_name, header=2)\n",
    "\n",
    "#missing_from_temp2 = temp2[~temp2['Scheme Short code'].isin(temp['Scheme Short code'])]"
   ]
  },
  {
   "cell_type": "code",
   "execution_count": 2,
   "id": "f545b909-278c-418c-bb25-4f89954f6ce2",
   "metadata": {},
   "outputs": [
    {
     "data": {
      "text/plain": [
       "pandas.core.frame.DataFrame"
      ]
     },
     "execution_count": 2,
     "metadata": {},
     "output_type": "execute_result"
    }
   ],
   "source": [
    "type(temp)"
   ]
  },
  {
   "cell_type": "code",
   "execution_count": 15,
   "id": "6248ecf9-3b13-4f34-9939-c581a2705dd4",
   "metadata": {},
   "outputs": [],
   "source": [
    "import sys\n",
    "import os\n"
   ]
  },
  {
   "cell_type": "code",
   "execution_count": 22,
   "id": "293d286b-0434-4fc2-951d-26e83e9d301b",
   "metadata": {},
   "outputs": [],
   "source": [
    "# sys.path.append(os.path.abspath(\"/Users/sg0220142/codebase/tb_pad/arthasetu/python_modules/src/ingestion_engines\"))\n",
    "sys.path.append(\"..\") "
   ]
  },
  {
   "cell_type": "code",
   "execution_count": 14,
   "id": "ffc86763-5c35-4698-a2fe-0c5700540704",
   "metadata": {},
   "outputs": [
    {
     "ename": "ModuleNotFoundError",
     "evalue": "No module named 'ingestion_engines'",
     "output_type": "error",
     "traceback": [
      "\u001b[0;31m---------------------------------------------------------------------------\u001b[0m",
      "\u001b[0;31mModuleNotFoundError\u001b[0m                       Traceback (most recent call last)",
      "Cell \u001b[0;32mIn[14], line 1\u001b[0m\n\u001b[0;32m----> 1\u001b[0m \u001b[38;5;28;01mfrom\u001b[39;00m\u001b[38;5;250m \u001b[39m\u001b[38;5;21;01mingestion_engines\u001b[39;00m\u001b[38;5;21;01m.\u001b[39;00m\u001b[38;5;21;01mparsers\u001b[39;00m\u001b[38;5;21;01m.\u001b[39;00m\u001b[38;5;21;01msbi_parser\u001b[39;00m\u001b[38;5;250m \u001b[39m\u001b[38;5;28;01mimport\u001b[39;00m core_sheet_parser\n",
      "\u001b[0;31mModuleNotFoundError\u001b[0m: No module named 'ingestion_engines'"
     ]
    }
   ],
   "source": []
  },
  {
   "cell_type": "code",
   "execution_count": null,
   "id": "1836ec0d-f069-4495-afd1-69836f93a245",
   "metadata": {},
   "outputs": [],
   "source": [
    "temp.__len__()"
   ]
  },
  {
   "cell_type": "code",
   "execution_count": null,
   "id": "c1692d11-8737-4606-b8f8-c74467b9bfb3",
   "metadata": {},
   "outputs": [],
   "source": [
    "# loop through the data frames and print nos of cols in \n",
    "sheet_not_found = []\n",
    "sheet_found = []\n",
    "df_row_mapper = pd.DataFrame()\n",
    "for idx, row in temp.iterrows():\n",
    "    \n",
    "    sheet_name = row[1] \n",
    "    scheme_code = row[0]\n",
    "    # print(scheme_code , '....' , sheet_name)\n",
    "    if sheet_name in xls.sheet_names:\n",
    "        df = xls.parse(sheet_name, header=5)\n",
    "        df.dropna(how='all', inplace=True) #drop completly blank rows , make changes directly to the df -- inplace = true\n",
    "        df = df.loc[:, ~df.columns.str.contains('BRSR')]\n",
    "        # print(sheet_name,'-----',df.shape[1])\n",
    "        new_row = {'sid':scheme_code,'sname':sheet_name,'col_nos':df.shape[1]}\n",
    "        df_row_mapper = pd.concat([df_row_mapper, pd.DataFrame([new_row])], ignore_index=True)\n",
    "        sheet_found.append(sheet_name)\n",
    "    else:\n",
    "        sheet_not_found.append(sheet_name)\n",
    "\n",
    "print('-----------------------------',sheet_not_found.__len__(),'---',sheet_found.__len__())\n",
    "\n",
    "    \n",
    "\n",
    "    "
   ]
  },
  {
   "cell_type": "code",
   "execution_count": null,
   "id": "5141479b-faaf-4fa1-92de-e4ad8e9cf129",
   "metadata": {},
   "outputs": [],
   "source": [
    "df_row_mapper"
   ]
  },
  {
   "cell_type": "code",
   "execution_count": null,
   "id": "eaf96383-2bd1-4795-9d1e-83af3766e254",
   "metadata": {},
   "outputs": [],
   "source": [
    "df_row_mapper['col_nos'].unique()"
   ]
  },
  {
   "cell_type": "code",
   "execution_count": null,
   "id": "4bb7a9f1-55a6-45fb-a992-8c0a42241518",
   "metadata": {},
   "outputs": [],
   "source": [
    "sheet_name='SLTAF-III'"
   ]
  },
  {
   "cell_type": "code",
   "execution_count": null,
   "id": "0886252c-fd61-4407-b6f4-13c60dfaab5c",
   "metadata": {},
   "outputs": [],
   "source": [
    "df = xls.parse(sheet_name, header=5)"
   ]
  },
  {
   "cell_type": "code",
   "execution_count": null,
   "id": "ffab2cd3-67a5-44c1-b67c-216b5c2460b8",
   "metadata": {},
   "outputs": [],
   "source": [
    "print(len(temp3),'....', len(temp))"
   ]
  },
  {
   "cell_type": "code",
   "execution_count": null,
   "id": "f59e445a-68db-47ce-8697-084d7a837d62",
   "metadata": {},
   "outputs": [],
   "source": [
    "temp"
   ]
  },
  {
   "cell_type": "code",
   "execution_count": null,
   "id": "4c4f790f-d764-40e0-9c12-f73d6521e602",
   "metadata": {},
   "outputs": [],
   "source": []
  },
  {
   "cell_type": "code",
   "execution_count": null,
   "id": "33eb7396-0132-4b97-b8c9-e2b8d697d1af",
   "metadata": {},
   "outputs": [],
   "source": [
    "missing_from_temp3 = temp3[~temp3['Scheme Short code'].isin(temp2['Scheme Short code'])]"
   ]
  },
  {
   "cell_type": "code",
   "execution_count": null,
   "id": "f6098a11-5b5a-4477-8fcb-62f826ef8dc6",
   "metadata": {},
   "outputs": [],
   "source": [
    "missing_from_temp3"
   ]
  },
  {
   "cell_type": "code",
   "execution_count": null,
   "id": "ca44f78c-c0c5-493b-908a-32a7ce254cd2",
   "metadata": {},
   "outputs": [],
   "source": [
    "print('temp2: ----', temp2.__len__(), '....temp1:----',temp.__len__())"
   ]
  },
  {
   "cell_type": "code",
   "execution_count": null,
   "id": "8ca1a0d0-fcfb-4718-ab1c-2705747f7b13",
   "metadata": {},
   "outputs": [],
   "source": [
    "missing_from_temp2"
   ]
  }
 ],
 "metadata": {
  "kernelspec": {
   "display_name": "Python 3 (ipykernel)",
   "language": "python",
   "name": "python3"
  },
  "language_info": {
   "codemirror_mode": {
    "name": "ipython",
    "version": 3
   },
   "file_extension": ".py",
   "mimetype": "text/x-python",
   "name": "python",
   "nbconvert_exporter": "python",
   "pygments_lexer": "ipython3",
   "version": "3.10.14"
  }
 },
 "nbformat": 4,
 "nbformat_minor": 5
}
