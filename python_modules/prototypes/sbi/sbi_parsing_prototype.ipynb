{
 "cells": [
  {
   "cell_type": "markdown",
   "id": "6333fa18-21fd-4b73-b7d9-dcb3219efe01",
   "metadata": {},
   "source": [
    "# PARSING SECTION"
   ]
  },
  {
   "cell_type": "code",
   "execution_count": 4,
   "id": "b1a0301e-9f1e-4edf-a27c-6f62b1e407e3",
   "metadata": {},
   "outputs": [
    {
     "ename": "ModuleNotFoundError",
     "evalue": "No module named 'pandas'",
     "output_type": "error",
     "traceback": [
      "\u001b[31m---------------------------------------------------------------------------\u001b[39m",
      "\u001b[31mModuleNotFoundError\u001b[39m                       Traceback (most recent call last)",
      "\u001b[36mCell\u001b[39m\u001b[36m \u001b[39m\u001b[32mIn[4]\u001b[39m\u001b[32m, line 1\u001b[39m\n\u001b[32m----> \u001b[39m\u001b[32m1\u001b[39m \u001b[38;5;28;01mimport\u001b[39;00m\u001b[38;5;250m \u001b[39m\u001b[34;01mpandas\u001b[39;00m\u001b[38;5;250m \u001b[39m\u001b[38;5;28;01mas\u001b[39;00m\u001b[38;5;250m \u001b[39m\u001b[34;01mpd\u001b[39;00m\n",
      "\u001b[31mModuleNotFoundError\u001b[39m: No module named 'pandas'"
     ]
    }
   ],
   "source": [
    "import pandas as pd"
   ]
  },
  {
   "cell_type": "code",
   "execution_count": null,
   "id": "79184194-3f69-492d-8fbe-5ca235ecb2b9",
   "metadata": {},
   "outputs": [],
   "source": [
    "type(xls)"
   ]
  },
  {
   "cell_type": "code",
   "execution_count": 2,
   "id": "0d277452-a63e-4526-aae4-a11b6a935b68",
   "metadata": {},
   "outputs": [
    {
     "ename": "ModuleNotFoundError",
     "evalue": "No module named 'pandas'",
     "output_type": "error",
     "traceback": [
      "\u001b[31m---------------------------------------------------------------------------\u001b[39m",
      "\u001b[31mModuleNotFoundError\u001b[39m                       Traceback (most recent call last)",
      "\u001b[36mCell\u001b[39m\u001b[36m \u001b[39m\u001b[32mIn[2]\u001b[39m\u001b[32m, line 1\u001b[39m\n\u001b[32m----> \u001b[39m\u001b[32m1\u001b[39m \u001b[38;5;28;01mfrom\u001b[39;00m\u001b[38;5;250m \u001b[39m\u001b[34;01mpandas\u001b[39;00m\u001b[34;01m.\u001b[39;00m\u001b[34;01mio\u001b[39;00m\u001b[34;01m.\u001b[39;00m\u001b[34;01mexcel\u001b[39;00m\u001b[34;01m.\u001b[39;00m\u001b[34;01m_base\u001b[39;00m\u001b[38;5;250m \u001b[39m\u001b[38;5;28;01mimport\u001b[39;00m ExcelFile\n",
      "\u001b[31mModuleNotFoundError\u001b[39m: No module named 'pandas'"
     ]
    }
   ],
   "source": [
    "from pandas.io.excel._base import ExcelFile"
   ]
  },
  {
   "cell_type": "code",
   "execution_count": 3,
   "id": "8a508238-657d-4dba-860f-4e6d1399da26",
   "metadata": {},
   "outputs": [
    {
     "name": "stdout",
     "output_type": "stream",
     "text": [
      "Package         Version\n",
      "--------------- -----------\n",
      "numpy           2.2.6\n",
      "pandas          2.3.0\n",
      "pip             25.1.1\n",
      "python-dateutil 2.9.0.post0\n",
      "pytz            2025.2\n",
      "setuptools      80.3.1\n",
      "six             1.17.0\n",
      "tzdata          2025.2\n"
     ]
    }
   ],
   "source": [
    "! pip list"
   ]
  },
  {
   "cell_type": "code",
   "execution_count": null,
   "id": "482a617b-cc30-486f-bc1f-820a39c63837",
   "metadata": {},
   "outputs": [],
   "source": [
    "#!curl -O https://www.sbimf.com/docs/default-source/scheme-factsheets/sbi-large-midcap-fund-factsheet-february-2025.pdf"
   ]
  },
  {
   "cell_type": "code",
   "execution_count": null,
   "id": "b45fb3fa-13bc-441b-9e31-e7913d72d3bc",
   "metadata": {},
   "outputs": [],
   "source": [
    "!curl -O https://www.sbimf.com/docs/default-source/scheme-portfolios/all-schemes-monthly-portfolio---as-on-28th-february-2025.xlsx"
   ]
  },
  {
   "cell_type": "code",
   "execution_count": null,
   "id": "5dad034c-27b0-43f3-bde9-cebba9f8d36b",
   "metadata": {},
   "outputs": [],
   "source": [
    "#!curl -O https://www.sbimf.com/docs/default-source/scheme-portfolios/all-schemes-monthly-portfolio---as-on-31st-march-2025.xlsx"
   ]
  },
  {
   "cell_type": "code",
   "execution_count": null,
   "id": "d5e6bf8f-50bb-4567-97b6-45bd35e657b2",
   "metadata": {},
   "outputs": [],
   "source": [
    "sheet_name = 'SCF'"
   ]
  },
  {
   "cell_type": "code",
   "execution_count": null,
   "id": "5deea68a-56a9-4003-be1c-327edfe1c8cb",
   "metadata": {},
   "outputs": [],
   "source": [
    "file_path = \"all-schemes-monthly-portfolio---as-on-28th-february-2025.xlsx\"\n",
    "\n",
    "# Load the workbook\n",
    "xls = pd.ExcelFile(file_path)\n"
   ]
  },
  {
   "cell_type": "code",
   "execution_count": null,
   "id": "41577184-c7f5-491a-aea1-5976f393cac7",
   "metadata": {},
   "outputs": [],
   "source": [
    "# snippet fining the fund name\n",
    "# temp = pd.read_excel(file_path, sheet_name=sheet_name, nrows=5)\n",
    "# temp = temp.iloc[:,[2,3]]\n",
    "# fund_name = temp.iloc[1,1]\n",
    "# fund_name\n"
   ]
  },
  {
   "cell_type": "code",
   "execution_count": null,
   "id": "597b94b5-09bc-4aa1-9854-bd5596f0f37a",
   "metadata": {},
   "outputs": [],
   "source": [
    "# find_det = xls.parse(sheet_name,nrows=4)"
   ]
  },
  {
   "cell_type": "code",
   "execution_count": null,
   "id": "a79678a6-053d-46c0-927f-af449fd82869",
   "metadata": {},
   "outputs": [],
   "source": [
    "# find_det"
   ]
  },
  {
   "cell_type": "code",
   "execution_count": null,
   "id": "5c44b010-b5f5-49ad-b459-d8f63739e495",
   "metadata": {},
   "outputs": [],
   "source": [
    "# read the data from dataframes\n",
    "df = xls.parse('SCF', header=5)\n",
    "df.dropna(how='all', inplace=True) #drop completly blank rows , make changes directly to the df -- inplace = true\n",
    "df = df.loc[:, ~df.columns.str.contains('BRSR')]\n"
   ]
  },
  {
   "cell_type": "code",
   "execution_count": null,
   "id": "77195687-c82c-4421-9811-844a9e03417e",
   "metadata": {},
   "outputs": [],
   "source": [
    "df.info()"
   ]
  },
  {
   "cell_type": "code",
   "execution_count": null,
   "id": "cd61e915-7962-442c-b14b-f08b37d7055b",
   "metadata": {},
   "outputs": [],
   "source": [
    "# rename the cols \n",
    "\n",
    "df.columns = df.columns.str.replace(r'Name of.*', 'inst_name', regex=True)\n",
    "df.columns = df.columns.str.replace(r'Rating.*', 'sector', regex=True)\n",
    "df.columns = df.columns.str.replace(r'Market[\\s\\S]*', 'market_value_lakhs', regex=True)\n",
    "df.columns = df.columns.str.replace(r'YTM.*', 'ytm_percent', regex=True)\n",
    "df.columns = df.columns.str.replace(r'YTC.*', 'ytc_percent', regex=True)\n",
    "df.columns = df.columns.str.replace(r'Notes.*', 'notes_symbols', regex=True)\n",
    "df = df.rename(columns={\n",
    "     \"ISIN\":\"isin\",\n",
    "     \"Quantity\":\"quantity\",\n",
    "     \"% to AUM\":\"aum_percent\",\n",
    "})\n"
   ]
  },
  {
   "cell_type": "code",
   "execution_count": null,
   "id": "b117442f-c66c-46ec-a5db-b69ea90d1e02",
   "metadata": {},
   "outputs": [],
   "source": [
    "type(df)"
   ]
  },
  {
   "cell_type": "code",
   "execution_count": null,
   "id": "4df111a8-a1e8-490b-9452-2b331549b4ab",
   "metadata": {},
   "outputs": [],
   "source": [
    "interested_cols=['inst_name','isin','sector','quantity','market_value_lakhs','aum_percent','ytm_percent','ytc_percent','notes_symbols']"
   ]
  },
  {
   "cell_type": "code",
   "execution_count": null,
   "id": "7b2b932b-2591-454c-8f38-da6e383db720",
   "metadata": {},
   "outputs": [],
   "source": []
  },
  {
   "cell_type": "code",
   "execution_count": null,
   "id": "fe1ed257-896b-4d26-b217-4597f04b6d30",
   "metadata": {},
   "outputs": [],
   "source": [
    "df_int = df[interested_cols]"
   ]
  },
  {
   "cell_type": "code",
   "execution_count": null,
   "id": "80a67876-d0a4-4208-8cfd-57cfc3c0048f",
   "metadata": {},
   "outputs": [],
   "source": [
    "df_int.info()"
   ]
  },
  {
   "cell_type": "code",
   "execution_count": null,
   "id": "1a94d033-cc2e-406f-be81-d6f212d5bf98",
   "metadata": {},
   "outputs": [],
   "source": [
    "sections = {\n",
    "    \"EQUITY & EQUITY RELATED\": {\n",
    "        \"sublist\": {\n",
    "            \"a) Listed/awaiting listing on Stock Exchanges\": \"listed_on_exchange\",\n",
    "            \"b) Unlisted\": \"unlisted_on_exchange\",\n",
    "            \"c) Foreign Securities and /or overseas ETF\": \"listed_overseas\"\n",
    "        }\n",
    "    },\n",
    "    \"DEBT INSTRUMENTS\": {\n",
    "        \"sublist\": {\n",
    "            \"a) Listed/awaiting listing on the stock exchanges\": \"listed_on_exchange\",\n",
    "            \"b) Privately Placed/Unlisted\": \"unlisted_on_exchange\",\n",
    "            \"c) Securitised Debt Instruments\": \"sdi_securities\",\n",
    "            \"d) Central Government Securities\": \"central_govt_securities\",\n",
    "            \"e) State Government Securities\": \"state_govt_securities\"\n",
    "        }\n",
    "    },\n",
    "    \"MONEY MARKET INSTRUMENTS\": {\n",
    "        \"sublist\": {\n",
    "            \"a) Commercial Paper\": \"commercial_paper\",\n",
    "            \"b) Certificate of Deposits\": \"certificate_of_deposits\",\n",
    "            \"c) Treasury Bills\": \"treasury_bills\",\n",
    "            \"d) Bills Re- Discounting\": \"bills_re_discounting\",\n",
    "            \"e) STRIPS\": \"strips\"\n",
    "        }\n",
    "    },\n",
    "    \"OTHERS\": {\n",
    "        \"sublist\": {\n",
    "            \"a) Mutual Fund Units / Exchange Traded Funds\": \"mf_or_exchange_traded_funds\",\n",
    "            \"b) Alternative Investment Funds\": \"alt_investment_finds\",\n",
    "            \"c) Gold\": \"gold\",\n",
    "            \"d) Short Term Deposits\": \"short_term_deposits\",\n",
    "            \"e) Term Deposits Placed as Margins\": \"term_deposits_placed_as_Margin\",\n",
    "            \"f) TREPS / Reverse Repo Investments\": \"treps\"\n",
    "        }\n",
    "    },\n",
    "    \"Other Current Assets / (Liabilities)\": {\n",
    "        \"sublist\": {}\n",
    "    },\n",
    "    \"DERIVATIVES\": {\n",
    "        \"sublist\": {\n",
    "            \"Stock Futures\": \"stock_futures\",\n",
    "            \"INTEREST RATE SWAPS\": \"interest_rate_swaps\",\n",
    "            \"Index Futures\": \"index_futures\"\n",
    "        }\n",
    "    }\n",
    "}"
   ]
  },
  {
   "cell_type": "code",
   "execution_count": null,
   "id": "6903fb9f-2497-4b3f-9038-3da369582683",
   "metadata": {},
   "outputs": [],
   "source": [
    "# core logic to create a KV data structure\n",
    "ommit_rows = ['','Notes & Symbols :-','GRAND TOTAL (AUM)','Name of the Instrument','Derivatives Total','Total']\n",
    "section_dataframes = {}\n",
    "current_section = None\n",
    "section_start = None\n",
    "\n",
    "current_section_type = None\n",
    "current_sub_section_type = None\n",
    "\n",
    "for idx, row in df_int.iterrows():\n",
    "    holdings = None\n",
    "    \n",
    "    if row[0] == 'Notes & Symbols :-':\n",
    "        break;\n",
    "    else:\n",
    "        if row[0] in sections:\n",
    "            if current_section_type != row[0]:\n",
    "                current_section_type = row[0]\n",
    "                current_sub_section_type = ''\n",
    "        elif row[0] in sections[current_section_type]['sublist']:\n",
    "            # current_sub_section_type = row[0]\n",
    "            current_sub_section_type = sections[current_section_type]['sublist'][row[0]]\n",
    "        elif row[0] not in ommit_rows :\n",
    "            holdings = {\n",
    "                 'inst_name':row['inst_name'] ,  \n",
    "                 'isin':row['isin'],\n",
    "                 'sector':row['sector'],\n",
    "                 'quantity':row['quantity'],\n",
    "                 #'quantity':row['quantity'].str.extract(r'\\((\\d+)\\)')\n",
    "                 'market_value_lakhs':row['market_value_lakhs'] if row['market_value_lakhs']!='NIL' else 0.0,\n",
    "                 'aum_percent':row['aum_percent'],\n",
    "                 # 'esg_score':row['esg_score'] if ,\n",
    "                 'esg_score':row.get('esg_score','') or '',\n",
    "                 'notes_symbols':row['notes_symbols'],\n",
    "                 'ytm_percent':row['ytm_percent'],\n",
    "                 'ytc_percent':row['ytc_percent']\n",
    "            }\n",
    "            section_dataframes.setdefault(current_section_type,{}).setdefault(current_sub_section_type,[]).append(holdings)\n",
    "        \n",
    "    "
   ]
  },
  {
   "cell_type": "code",
   "execution_count": null,
   "id": "25490519-167a-4da5-bbf1-74b3ff96428f",
   "metadata": {},
   "outputs": [],
   "source": [
    "# conversion of flat_rows to flat_df\n",
    "flat_rows = []\n",
    "\n",
    "for section_type, subsections in section_dataframes.items():\n",
    "    for sub_section_type, holdings_list in subsections.items():\n",
    "        for holding in holdings_list:\n",
    "            flat_rows.append({\n",
    "                'section_type': section_type,\n",
    "                'sub_section_type': sub_section_type,\n",
    "                **holding  # expands the holding dict into flat columns\n",
    "            })\n",
    "\n",
    "\n",
    "final_df = pd.DataFrame(flat_rows)"
   ]
  },
  {
   "cell_type": "code",
   "execution_count": null,
   "id": "ed96fcdc-3bdf-41da-8840-10621e9778ba",
   "metadata": {},
   "outputs": [],
   "source": [
    "from datetime import datetime\n",
    "\n",
    "filename = \"all-schemes-monthly-portfolio---as-on-28th-february-2025.xlsx\"\n",
    "match = re.search(r'(\\d{1,2})(?:st|nd|rd|th)-([a-z]+)-(\\d{4})', filename, re.IGNORECASE)\n",
    "\n",
    "if match:\n",
    "    day, month_str, year = match.groups()\n",
    "    try:\n",
    "        # Convert to proper datetime object (month needs formatting)\n",
    "        dt = datetime.strptime(f\"{day} {month_str} {year}\", \"%d %B %Y\")\n",
    "        print(\"Month:\", dt.month)\n",
    "        print(\"Year:\", dt.year)\n",
    "    except ValueError:\n",
    "        print(\"Invalid date format in string.\")\n",
    "else:\n",
    "    print(\"No valid date found in filename.\")\n"
   ]
  },
  {
   "cell_type": "code",
   "execution_count": null,
   "id": "b73dfead-12d8-4200-9576-8717ddd29978",
   "metadata": {},
   "outputs": [],
   "source": [
    "import numpy as np\n",
    "\n",
    "# renaming sections in the final df\n",
    "\n",
    "final_df['section_type'] = final_df['section_type'].replace(\n",
    "    {\n",
    "        'EQUITY & EQUITY RELATED': 'equities',\n",
    "        'OTHERS': 'other',\n",
    "        'Other Current Assets / (Liabilities)': 'assets_or_liabilities',\n",
    "        'DERIVATIVES': 'derivatives',\n",
    "        'MONEY MARKET INSTRUMENTS': 'money_market_inst'\n",
    "    }\n",
    ")\n",
    "\n",
    "final_df['mf_fund_id'] = 123\n",
    "final_df['mf_fund_code'] = sheet_name\n",
    "final_df['fund_holder'] = 'SBI'\n",
    "\n",
    "final_df=final_df.fillna(0.0)\n",
    "\n",
    "# getting the month and year from file name \n",
    "\n",
    "\n",
    "\n",
    "## subsections\n",
    "# final_df['sub_section_type'] = final_df['sub_section_type'].replace(\n",
    "#     {\n",
    "#         'a) Listed/awaiting listing on Stock Exchanges': 'listed_on_exchange',\n",
    "#         'b) Unlisted': 'unlisted',\n",
    "#         'c) Foreign Securities and /or overseas ETF': 'overseas_investments',\n",
    "#         'e) TREPS / Reverse Repo Investments': 'treps_reserve_repo',\n",
    "#         'Stock Futures':'stock_futures'\n",
    "#     }\n",
    "# )\n",
    "\n",
    "#marking as asset or liability\n",
    "final_df['type'] = np.where(\n",
    "    (final_df['market_value_lakhs'] < 0 ),\n",
    "    'liability',  # value if condition is True\n",
    "    'asset'          # value if condition is False\n",
    ")"
   ]
  },
  {
   "cell_type": "code",
   "execution_count": null,
   "id": "2e4aa84f-6c72-4fdf-91b8-3900fee52865",
   "metadata": {},
   "outputs": [],
   "source": [
    "final_df"
   ]
  },
  {
   "cell_type": "code",
   "execution_count": null,
   "id": "c09e93fa-e654-4580-82aa-5d96033eac80",
   "metadata": {},
   "outputs": [],
   "source": [
    "selected_section = final_df[final_df['section_type']  == 'derivatives']"
   ]
  },
  {
   "cell_type": "code",
   "execution_count": null,
   "id": "ff1ef63e-b5c8-464e-b1ab-66ff4421f6a4",
   "metadata": {},
   "outputs": [],
   "source": [
    "selected_section"
   ]
  },
  {
   "cell_type": "code",
   "execution_count": null,
   "id": "5dff093d-f849-4270-8eea-b2ff0dd4bacd",
   "metadata": {},
   "outputs": [],
   "source": [
    "# get the last details for bechmark and riskometer\n",
    "\n",
    "tail = df.tail(30)\n",
    "import re\n",
    "benchmark_name = None\n",
    "for _, row in tail.iterrows():\n",
    "    row_text = \" \".join(str(cell).strip() for cell in row if pd.notna(cell))\n",
    "    \n",
    "    # Extract benchmark name\n",
    "    if \"Benchmark Name :\" in row_text:\n",
    "        match = re.search(r\"Benchmark Name\\s*:\\s*(.*)\", row_text)\n",
    "        if match:\n",
    "            benchmark_name = match.group(1).strip()"
   ]
  },
  {
   "cell_type": "code",
   "execution_count": null,
   "id": "48d2fe95-ff67-4774-bc19-278d0198a7f7",
   "metadata": {},
   "outputs": [],
   "source": [
    "benchmark_name"
   ]
  },
  {
   "cell_type": "code",
   "execution_count": null,
   "id": "01807e12-4b30-4458-831e-1c499518fed5",
   "metadata": {},
   "outputs": [],
   "source": [
    "#  code to create numbers for portfolio asset allocation"
   ]
  },
  {
   "cell_type": "code",
   "execution_count": null,
   "id": "1a082d7c-c644-4591-b52a-a20baa4a369c",
   "metadata": {},
   "outputs": [],
   "source": [
    "#  code create portfolio by industry allocation"
   ]
  },
  {
   "cell_type": "code",
   "execution_count": null,
   "id": "0071758f-e752-4214-a858-7a0d88f16617",
   "metadata": {},
   "outputs": [],
   "source": [
    "#@import parsing_test as pt\n",
    "\n",
    "from parsing_test import generate_mf_ds"
   ]
  },
  {
   "cell_type": "code",
   "execution_count": null,
   "id": "9e571c57-26bc-4bb3-ad9b-b6e7bacfe681",
   "metadata": {},
   "outputs": [],
   "source": [
    "import pandas as pd\n",
    "\n",
    "# Path to your Excel file\n",
    "file_path = \"all-schemes-monthly-portfolio---as-on-28th-february-2025.xlsx\"\n",
    "\n",
    "# Load the workbook\n",
    "xls = pd.ExcelFile(file_path)"
   ]
  },
  {
   "cell_type": "code",
   "execution_count": null,
   "id": "313c85d8-21b3-4d58-b303-4f184d819d5f",
   "metadata": {},
   "outputs": [],
   "source": [
    "import parsing_test\n",
    "import importlib\n",
    "\n",
    "# Reload the module to pick up any changes\n",
    "importlib.reload(parsing_test)\n",
    "\n",
    "# Now call your function\n",
    "parsed_df = parsing_test.generate_mf_ds(123,'SCF',xls,2,2025)"
   ]
  },
  {
   "cell_type": "code",
   "execution_count": null,
   "id": "3b0d545e-2902-4099-abce-f60aa79e0bf3",
   "metadata": {},
   "outputs": [],
   "source": []
  },
  {
   "cell_type": "code",
   "execution_count": null,
   "id": "3680a2bc-8b83-4416-a651-4978379f0b6b",
   "metadata": {},
   "outputs": [],
   "source": []
  },
  {
   "cell_type": "code",
   "execution_count": null,
   "id": "b3de5065-ed41-4644-b35a-8770fa2a708e",
   "metadata": {},
   "outputs": [],
   "source": [
    "import numpy as np\n",
    "import pandas as pd\n",
    "from pandas import DataFrame\n",
    "from pandas.io.excel._base import ExcelFile\n",
    "\n",
    "mf_component_section_mapping = {\n",
    "    \"EQUITY & EQUITY RELATED\": {\n",
    "        \"sublist\": {\n",
    "            \"a) Listed/awaiting listing on Stock Exchanges\": \"listed_on_exchange\",\n",
    "            \"b) Unlisted\": \"unlisted_on_exchange\",\n",
    "            \"c) Foreign Securities and /or overseas ETF\": \"listed_overseas\"\n",
    "        }\n",
    "    },\n",
    "    \"DEBT INSTRUMENTS\": {\n",
    "        \"sublist\": {\n",
    "            \"a) Listed/awaiting listing on the stock exchanges\": \"listed_on_exchange\",\n",
    "            \"b) Privately Placed/Unlisted\": \"unlisted_on_exchange\",\n",
    "            \"c) Securitised Debt Instruments\": \"sdi_securities\",\n",
    "            \"d) Central Government Securities\": \"central_govt_securities\",\n",
    "            \"e) State Government Securities\": \"state_govt_securities\"\n",
    "        }\n",
    "    },\n",
    "    \"MONEY MARKET INSTRUMENTS\": {\n",
    "        \"sublist\": {\n",
    "            \"a) Commercial Paper\": \"commercial_paper\",\n",
    "            \"b) Certificate of Deposits\": \"certificate_of_deposits\",\n",
    "            \"c) Treasury Bills\": \"treasury_bills\",\n",
    "            \"d) Bills Re- Discounting\": \"bills_re_discounting\",\n",
    "            \"e) STRIPS\": \"strips\"\n",
    "        }\n",
    "    },\n",
    "    \"OTHERS\": {\n",
    "        \"sublist\": {\n",
    "            \"a) Mutual Fund Units / Exchange Traded Funds\": \"mf_or_exchange_traded_funds\",\n",
    "            \"b) Alternative Investment Funds\": \"alt_investment_finds\",\n",
    "            \"c) Gold\": \"gold\",\n",
    "            \"d) Short Term Deposits\": \"short_term_deposits\",\n",
    "            \"e) Term Deposits Placed as Margins\": \"term_deposits_placed_as_Margin\",\n",
    "            \"f) TREPS / Reverse Repo Investments\": \"treps\"\n",
    "        }\n",
    "    },\n",
    "    \"Other Current Assets / (Liabilities)\": {\n",
    "        \"sublist\": {}\n",
    "    },\n",
    "    \"DERIVATIVES\": {\n",
    "        \"sublist\": {\n",
    "            \"Stock Futures\": \"stock_futures\",\n",
    "            \"INTEREST RATE SWAPS\": \"interest_rate_swaps\",\n",
    "            \"Index Futures\": \"index_futures\"\n",
    "        }\n",
    "    }\n",
    "}\n",
    "\n",
    "\n",
    "def read_sheet_for_mf(sheet_name, xls_file):\n",
    "    mf_df = xls_file.parse(sheet_name, header=5)\n",
    "    mf_df.dropna(how='all',\n",
    "                 inplace=True)  # drop completly blank rows , make changes directly to the df -- inplace = true\n",
    "    mf_df = mf_df.loc[:, ~mf_df.columns.str.contains('BRSR')]  # not interested in any BRSR col\n",
    "    print('1')\n",
    "    mf_df.info()\n",
    "    return mf_df\n",
    "\n",
    "\n",
    "def col_rename(df: DataFrame):\n",
    "    df.columns = df.columns.str.replace(r'Name of.*', 'inst_name', regex=True)\n",
    "    df.columns = df.columns.str.replace(r'Rating.*', 'sector', regex=True)\n",
    "    df.columns = df.columns.str.replace(r'Market[\\s\\S]*', 'market_value_lakhs', regex=True)\n",
    "    df.columns = df.columns.str.replace(r'YTM.*', 'ytm_percent', regex=True)\n",
    "    df.columns = df.columns.str.replace(r'YTC.*', 'ytc_percent', regex=True)\n",
    "    df.columns = df.columns.str.replace(r'Notes.*', 'notes_symbols', regex=True)\n",
    "    df.rename(columns={\n",
    "        \"ISIN\": \"isin\",\n",
    "        \"Quantity\": \"quantity\",\n",
    "        \"% to AUM\": \"aum_percent\",\n",
    "    })\n",
    "\n",
    "    return df\n",
    "\n",
    "\n",
    "def generate_holdings_map_ds(df: DataFrame):\n",
    "    ommit_rows = ['', 'Notes & Symbols :-', 'GRAND TOTAL (AUM)', 'Name of the Instrument', 'Derivatives Total', 'Total']\n",
    "    section_dataframes = {}\n",
    "\n",
    "    current_section_type = None\n",
    "    current_sub_section_type = None\n",
    "\n",
    "    for idx, row in df.iterrows():\n",
    "        if row[0] == 'Notes & Symbols :-':\n",
    "            break;\n",
    "        else:\n",
    "            if row[0] in mf_component_section_mapping:\n",
    "                if current_section_type != row[0]:\n",
    "                    current_section_type = row[0]\n",
    "                    current_sub_section_type = ''\n",
    "            elif row[0] in mf_component_section_mapping[current_section_type]['sublist']:\n",
    "                # current_sub_section_type = row[0]\n",
    "                current_sub_section_type = mf_component_section_mapping[current_section_type]['sublist'][row[0]]\n",
    "            elif row[0] not in ommit_rows:\n",
    "                holdings = {\n",
    "                    'inst_name': row['inst_name'],\n",
    "                    'isin': row['isin'],\n",
    "                    'sector': row['sector'],\n",
    "                    'quantity': row['quantity'],\n",
    "                    # 'quantity':row['quantity'].str.extract(r'\\((\\d+)\\)')\n",
    "                    'market_value_lakhs': row['market_value_lakhs'] if row['market_value_lakhs'] != 'NIL' else 0.0,\n",
    "                    'aum_percent': row['aum_percent'],\n",
    "                    # 'esg_score':row['esg_score'] if ,\n",
    "                    'esg_score': row.get('esg_score', '') or '',\n",
    "                    'notes_symbols': row['notes_symbols'],\n",
    "                    'ytm_percent': row['ytm_percent'],\n",
    "                    'ytc_percent': row['ytc_percent']\n",
    "                }\n",
    "                section_dataframes.setdefault(current_section_type, {}).setdefault(current_sub_section_type, []).append(\n",
    "                    holdings)\n",
    "\n",
    "        return section_dataframes\n",
    "\n",
    "\n",
    "def convert_ds_to_df(ds_map):\n",
    "    flat_rows = []\n",
    "\n",
    "    for section_type, subsections in ds_map.items():\n",
    "        for sub_section_type, holdings_list in subsections.items():\n",
    "            for holding in holdings_list:\n",
    "                flat_rows.append({\n",
    "                    'section_type': section_type,\n",
    "                    'sub_section_type': sub_section_type,\n",
    "                    **holding  # expands the holding dict into flat columns\n",
    "                })\n",
    "\n",
    "    return pd.DataFrame(flat_rows)\n",
    "\n",
    "\n",
    "def post_process(df: DataFrame, mf_fund_id: int, mf_fund_code: str, disclose_month: int, disclose_year: int):\n",
    "    # rename the section types\n",
    "    df['section_type'] = df['section_type'].replace(\n",
    "        {\n",
    "            'EQUITY & EQUITY RELATED': 'equities',\n",
    "            'OTHERS': 'other',\n",
    "            'Other Current Assets / (Liabilities)': 'assets_or_liabilities',\n",
    "            'DERIVATIVES': 'derivatives',\n",
    "            'MONEY MARKET INSTRUMENTS': 'money_market_inst'\n",
    "        }\n",
    "    )\n",
    "\n",
    "    df['mf_fund_id'] = mf_fund_id\n",
    "    df['mf_fund_code'] = mf_fund_code\n",
    "    df['fund_holder'] = 'SBI'\n",
    "\n",
    "    # remove all NaN\n",
    "\n",
    "    df = df.fillna(0.0)\n",
    "\n",
    "    # marking as asset or liability\n",
    "    df['type'] = np.where(\n",
    "        (df['market_value_lakhs'] < 0),\n",
    "        'liability',  # value if condition is True\n",
    "        'asset'  # value if condition is False\n",
    "    )\n",
    "\n",
    "    # populate disclosure month and year\n",
    "    df['disclose_month'] = disclose_month\n",
    "    df['disclose_year'] = disclose_year\n",
    "\n",
    "    return df\n",
    "\n",
    "\n",
    "def generate_mf_ds(mf_code_id: int, mf_code_str: str, xls_file_fp: ExcelFile, disclosure_month: int,\n",
    "                   disclosure_year: int):\n",
    "    # read the sheet\n",
    "    mf_df = read_sheet_for_mf(sheet_name=mf_code_str, xls_file=xls_file_fp)\n",
    "\n",
    "    # rename cols\n",
    "    mf_df = col_rename(df=mf_df)\n",
    "\n",
    "    interested_cols = ['inst_name', 'isin', 'sector', 'quantity', 'market_value_lakhs', 'aum_percent', 'ytm_percent',\n",
    "                       'ytc_percent', 'notes_symbols']\n",
    "\n",
    "    # pick interested cols\n",
    "    df_int = mf_df[interested_cols]\n",
    "\n",
    "    # generate intermediate ds\n",
    "    holdings_ds = generate_holdings_map_ds(df_int)\n",
    "\n",
    "    # convert to dataframe\n",
    "    holdings_df = convert_ds_to_df(holdings_ds)\n",
    "\n",
    "    # post process\n",
    "    holdings_df = post_process(df=holdings_df, mf_fund_id=mf_code_id, mf_fund_code=mf_code_str,\n",
    "                               disclose_month=disclosure_month,\n",
    "                               disclose_year=disclosure_year)\n",
    "\n",
    "    return holdings_df\n"
   ]
  },
  {
   "cell_type": "code",
   "execution_count": null,
   "id": "a0f428e0-f831-4956-b55d-a85f0267a04e",
   "metadata": {},
   "outputs": [],
   "source": [
    "import pandas as pd\n",
    "\n",
    "# Path to your Excel file\n",
    "file_path = \"all-schemes-monthly-portfolio---as-on-28th-february-2025.xlsx\"\n",
    "\n",
    "# Load the workbook\n",
    "xls = pd.ExcelFile(file_path)"
   ]
  },
  {
   "cell_type": "code",
   "execution_count": null,
   "id": "1f2fb4c4-5d6a-40cb-910d-c44dbf0895e8",
   "metadata": {},
   "outputs": [],
   "source": [
    "tested = generate_mf_ds(mf_code_id=123,mf_code_str='SMEEF',xls_file_fp=xls,disclosure_month=2,disclosure_year=2025)"
   ]
  },
  {
   "cell_type": "code",
   "execution_count": null,
   "id": "5ae3e727-6872-4f33-9078-0bde0f496c46",
   "metadata": {},
   "outputs": [],
   "source": [
    "# testing for GCP "
   ]
  },
  {
   "cell_type": "code",
   "execution_count": null,
   "id": "d3751d00-ca1e-40c2-be64-76c4aa55e3c5",
   "metadata": {},
   "outputs": [],
   "source": [
    "gcs_path = 'gs://projx-tb-extracts-staging/pxsbi/all-schemes-monthly-portfolio---as-on-28th-february-2025.xlsx'"
   ]
  },
  {
   "cell_type": "code",
   "execution_count": null,
   "id": "fc0234b7-3c47-4aba-82ba-39f3169cf5ad",
   "metadata": {},
   "outputs": [],
   "source": [
    "!pip install pandas"
   ]
  },
  {
   "cell_type": "code",
   "execution_count": null,
   "id": "b0a43e02-eafc-4e72-98da-a014c799ffad",
   "metadata": {},
   "outputs": [],
   "source": [
    "import pandas as pd \n",
    "xls_file = pd.read_excel(gcs_path, engine='openpyxl')"
   ]
  }
 ],
 "metadata": {
  "kernelspec": {
   "display_name": "Python 3 (ipykernel)",
   "language": "python",
   "name": "python3"
  },
  "language_info": {
   "codemirror_mode": {
    "name": "ipython",
    "version": 3
   },
   "file_extension": ".py",
   "mimetype": "text/x-python",
   "name": "python",
   "nbconvert_exporter": "python",
   "pygments_lexer": "ipython3",
   "version": "3.11.6"
  }
 },
 "nbformat": 4,
 "nbformat_minor": 5
}
